{
 "cells": [
  {
   "cell_type": "markdown",
   "metadata": {},
   "source": [
    "# MOOC Analysis\n",
    "\n",
    "This notebook conducts analysis on the trends of online learning through MOOC platforms with respect to developer trends at different skill levels"
   ]
  },
  {
   "cell_type": "markdown",
   "metadata": {},
   "source": [
    "| Date | User | Change Type | Remarks |  \n",
    "| ---- | ---- | ----------- | ------- |\n",
    "| 05/30/2025   | Martin | Create  | Notebook for analysis of MOOC data. Started visual summary of dataframe | "
   ]
  },
  {
   "cell_type": "markdown",
   "metadata": {
    "vscode": {
     "languageId": "plaintext"
    }
   },
   "source": [
    "# Content\n",
    "\n",
    "* [Introduction](#introduction)\n",
    "* [Data](#data)\n",
    "* [Summary Breakdown](#summary-breakdown)"
   ]
  },
  {
   "cell_type": "markdown",
   "metadata": {},
   "source": [
    "# Introduction\n",
    "\n",
    "The journey of a develop and data scientist is a never-ending thirst for new knowledge and upskilling. As new technologies are constantly being created, the onus is on us to continually update ourselves with new and relevant skills that are used within the industry. The rise of MOOC platforms has made picking up these skills much easier compared to the past. Courses cover a wide variety of topics from general overviews of a tool, to projects that aim to impart very specific skills.\n",
    "\n",
    "The consensus in the community is that there are some fundamentals that should be developed before moving on to more advanced concepts. As such, the focus of this analysis is to identify the different trends related to the skills required at each level. We also compare this to the general programming community to see if the courses and projects offered by MOOC platforms are congruent with the skills in-demand by existing developers and data scientists"
   ]
  },
  {
   "cell_type": "markdown",
   "metadata": {},
   "source": [
    "# Data\n",
    "\n",
    "We are using the `combined_mooc.csv` and the (INSERT STACKOVERFLOW DATASET) as our primary dataframes to conduct this analysis\n",
    "\n",
    "<u>Key points on MOOC dataset</u>\n",
    "* 3 levels of skill encoded (Beginner, Intermediate, Advanced)"
   ]
  },
  {
   "cell_type": "code",
   "execution_count": 14,
   "metadata": {},
   "outputs": [],
   "source": [
    "import ast\n",
    "\n",
    "import pandas as pd\n",
    "import numpy as np\n",
    "import matplotlib as mpl\n",
    "import matplotlib.pyplot as plt\n",
    "import seaborn as sns"
   ]
  },
  {
   "cell_type": "code",
   "execution_count": 3,
   "metadata": {},
   "outputs": [],
   "source": [
    "# Load MOOC data - some values are stored as lists and need to be converted back\n",
    "df_mooc = pd.read_csv('combined_mooc.csv', low_memory=False)\n",
    "\n",
    "cols_to_convert = ['skills', 'reviews', 'subject', 'reviews_comments', 'reviews_stars']\n",
    "for col in cols_to_convert:\n",
    "  df_mooc[col] = df_mooc[col].apply(lambda x: ast.literal_eval(x) if not pd.isna(x) else x)"
   ]
  },
  {
   "cell_type": "code",
   "execution_count": 4,
   "metadata": {},
   "outputs": [
    {
     "data": {
      "text/html": [
       "<div>\n",
       "<style scoped>\n",
       "    .dataframe tbody tr th:only-of-type {\n",
       "        vertical-align: middle;\n",
       "    }\n",
       "\n",
       "    .dataframe tbody tr th {\n",
       "        vertical-align: top;\n",
       "    }\n",
       "\n",
       "    .dataframe thead th {\n",
       "        text-align: right;\n",
       "    }\n",
       "</style>\n",
       "<table border=\"1\" class=\"dataframe\">\n",
       "  <thead>\n",
       "    <tr style=\"text-align: right;\">\n",
       "      <th></th>\n",
       "      <th>type</th>\n",
       "      <th>course_name</th>\n",
       "      <th>organization</th>\n",
       "      <th>rating</th>\n",
       "      <th>description</th>\n",
       "      <th>skills</th>\n",
       "      <th>level</th>\n",
       "      <th>duration</th>\n",
       "      <th>reviews</th>\n",
       "      <th>enrollments</th>\n",
       "      <th>subject</th>\n",
       "      <th>provider</th>\n",
       "      <th>language</th>\n",
       "      <th>reviews_comments</th>\n",
       "      <th>reviews_stars</th>\n",
       "      <th>reviews_avg_stars</th>\n",
       "      <th>num_reviews</th>\n",
       "      <th>premium</th>\n",
       "    </tr>\n",
       "  </thead>\n",
       "  <tbody>\n",
       "    <tr>\n",
       "      <th>0</th>\n",
       "      <td>course</td>\n",
       "      <td>AWS Lambda إنشاء صورة مصغرة بإستخدام السيرفرل...</td>\n",
       "      <td>Coursera Project Network</td>\n",
       "      <td>NaN</td>\n",
       "      <td>هذا المشروع التفاعلي -إنشاء صورة مصغرة بإستخدا...</td>\n",
       "      <td>[AWS Identity And Access Management (IAM), Clo...</td>\n",
       "      <td>Intermediate</td>\n",
       "      <td>2.0</td>\n",
       "      <td>NaN</td>\n",
       "      <td>NaN</td>\n",
       "      <td>NaN</td>\n",
       "      <td>coursera</td>\n",
       "      <td>ar</td>\n",
       "      <td>NaN</td>\n",
       "      <td>NaN</td>\n",
       "      <td>NaN</td>\n",
       "      <td>NaN</td>\n",
       "      <td>NaN</td>\n",
       "    </tr>\n",
       "    <tr>\n",
       "      <th>1</th>\n",
       "      <td>course</td>\n",
       "      <td>Assisting Public Sector Decision Makers With ...</td>\n",
       "      <td>University of Michigan</td>\n",
       "      <td>4.8</td>\n",
       "      <td>Develop data analysis skills that support publ...</td>\n",
       "      <td>[Simulations, Statistical Analysis, Predictive...</td>\n",
       "      <td>Intermediate</td>\n",
       "      <td>16.0</td>\n",
       "      <td>[{'comment': 'This course was very good at get...</td>\n",
       "      <td>NaN</td>\n",
       "      <td>NaN</td>\n",
       "      <td>coursera</td>\n",
       "      <td>en</td>\n",
       "      <td>[wonderful]</td>\n",
       "      <td>[5]</td>\n",
       "      <td>5.0</td>\n",
       "      <td>1.0</td>\n",
       "      <td>NaN</td>\n",
       "    </tr>\n",
       "    <tr>\n",
       "      <th>2</th>\n",
       "      <td>course</td>\n",
       "      <td>Advanced Strategies for Sustainable Business</td>\n",
       "      <td>University of Colorado Boulder</td>\n",
       "      <td>NaN</td>\n",
       "      <td>This course focuses on integrating sustainabil...</td>\n",
       "      <td>[Circular Economy, Sustainable Business, Stake...</td>\n",
       "      <td>Beginner</td>\n",
       "      <td>6.0</td>\n",
       "      <td>NaN</td>\n",
       "      <td>NaN</td>\n",
       "      <td>NaN</td>\n",
       "      <td>coursera</td>\n",
       "      <td>en</td>\n",
       "      <td>NaN</td>\n",
       "      <td>NaN</td>\n",
       "      <td>NaN</td>\n",
       "      <td>NaN</td>\n",
       "      <td>NaN</td>\n",
       "    </tr>\n",
       "    <tr>\n",
       "      <th>3</th>\n",
       "      <td>course</td>\n",
       "      <td>Applying Machine Learning to Your Data with G...</td>\n",
       "      <td>Google Cloud</td>\n",
       "      <td>NaN</td>\n",
       "      <td>Dans ce cours, nous définirons ce qu'est le ma...</td>\n",
       "      <td>NaN</td>\n",
       "      <td>Beginner</td>\n",
       "      <td>10.0</td>\n",
       "      <td>NaN</td>\n",
       "      <td>NaN</td>\n",
       "      <td>NaN</td>\n",
       "      <td>coursera</td>\n",
       "      <td>fr</td>\n",
       "      <td>NaN</td>\n",
       "      <td>NaN</td>\n",
       "      <td>NaN</td>\n",
       "      <td>NaN</td>\n",
       "      <td>NaN</td>\n",
       "    </tr>\n",
       "    <tr>\n",
       "      <th>4</th>\n",
       "      <td>project</td>\n",
       "      <td>Automate Blog Advertisements with Zapier</td>\n",
       "      <td>Coursera Project Network</td>\n",
       "      <td>NaN</td>\n",
       "      <td>Zapier is the industry leader in task automati...</td>\n",
       "      <td>[Advertising, Social Media, Blogging, Marketing]</td>\n",
       "      <td>Intermediate</td>\n",
       "      <td>2.0</td>\n",
       "      <td>[{'comment': 'wonderful', 'stars': 5}]</td>\n",
       "      <td>NaN</td>\n",
       "      <td>NaN</td>\n",
       "      <td>coursera</td>\n",
       "      <td>en</td>\n",
       "      <td>[Very good way of teaching., Good, Good]</td>\n",
       "      <td>[5, 5, 5]</td>\n",
       "      <td>5.0</td>\n",
       "      <td>3.0</td>\n",
       "      <td>NaN</td>\n",
       "    </tr>\n",
       "  </tbody>\n",
       "</table>\n",
       "</div>"
      ],
      "text/plain": [
       "      type                                        course_name  \\\n",
       "0   course   AWS Lambda إنشاء صورة مصغرة بإستخدام السيرفرل...   \n",
       "1   course   Assisting Public Sector Decision Makers With ...   \n",
       "2   course       Advanced Strategies for Sustainable Business   \n",
       "3   course   Applying Machine Learning to Your Data with G...   \n",
       "4  project          Automate Blog Advertisements with Zapier    \n",
       "\n",
       "                     organization  rating  \\\n",
       "0        Coursera Project Network     NaN   \n",
       "1          University of Michigan     4.8   \n",
       "2  University of Colorado Boulder     NaN   \n",
       "3                    Google Cloud     NaN   \n",
       "4        Coursera Project Network     NaN   \n",
       "\n",
       "                                         description  \\\n",
       "0  هذا المشروع التفاعلي -إنشاء صورة مصغرة بإستخدا...   \n",
       "1  Develop data analysis skills that support publ...   \n",
       "2  This course focuses on integrating sustainabil...   \n",
       "3  Dans ce cours, nous définirons ce qu'est le ma...   \n",
       "4  Zapier is the industry leader in task automati...   \n",
       "\n",
       "                                              skills         level  duration  \\\n",
       "0  [AWS Identity And Access Management (IAM), Clo...  Intermediate       2.0   \n",
       "1  [Simulations, Statistical Analysis, Predictive...  Intermediate      16.0   \n",
       "2  [Circular Economy, Sustainable Business, Stake...      Beginner       6.0   \n",
       "3                                                NaN      Beginner      10.0   \n",
       "4   [Advertising, Social Media, Blogging, Marketing]  Intermediate       2.0   \n",
       "\n",
       "                                             reviews  enrollments subject  \\\n",
       "0                                                NaN          NaN     NaN   \n",
       "1  [{'comment': 'This course was very good at get...          NaN     NaN   \n",
       "2                                                NaN          NaN     NaN   \n",
       "3                                                NaN          NaN     NaN   \n",
       "4             [{'comment': 'wonderful', 'stars': 5}]          NaN     NaN   \n",
       "\n",
       "   provider language                          reviews_comments reviews_stars  \\\n",
       "0  coursera       ar                                       NaN           NaN   \n",
       "1  coursera       en                               [wonderful]           [5]   \n",
       "2  coursera       en                                       NaN           NaN   \n",
       "3  coursera       fr                                       NaN           NaN   \n",
       "4  coursera       en  [Very good way of teaching., Good, Good]     [5, 5, 5]   \n",
       "\n",
       "   reviews_avg_stars  num_reviews  premium  \n",
       "0                NaN          NaN      NaN  \n",
       "1                5.0          1.0      NaN  \n",
       "2                NaN          NaN      NaN  \n",
       "3                NaN          NaN      NaN  \n",
       "4                5.0          3.0      NaN  "
      ]
     },
     "execution_count": 4,
     "metadata": {},
     "output_type": "execute_result"
    }
   ],
   "source": [
    "df_mooc.head()"
   ]
  },
  {
   "cell_type": "markdown",
   "metadata": {},
   "source": [
    "# Summary Breakdown\n",
    "\n",
    "First we create a breakdown for some columns and derive some basic insights about the MOOC dataset"
   ]
  },
  {
   "cell_type": "code",
   "execution_count": null,
   "metadata": {},
   "outputs": [
    {
     "data": {
      "text/html": [
       "<div>\n",
       "<style scoped>\n",
       "    .dataframe tbody tr th:only-of-type {\n",
       "        vertical-align: middle;\n",
       "    }\n",
       "\n",
       "    .dataframe tbody tr th {\n",
       "        vertical-align: top;\n",
       "    }\n",
       "\n",
       "    .dataframe thead th {\n",
       "        text-align: right;\n",
       "    }\n",
       "</style>\n",
       "<table border=\"1\" class=\"dataframe\">\n",
       "  <thead>\n",
       "    <tr style=\"text-align: right;\">\n",
       "      <th></th>\n",
       "      <th>type</th>\n",
       "      <th>count</th>\n",
       "    </tr>\n",
       "  </thead>\n",
       "  <tbody>\n",
       "    <tr>\n",
       "      <th>0</th>\n",
       "      <td>course</td>\n",
       "      <td>35715</td>\n",
       "    </tr>\n",
       "    <tr>\n",
       "      <th>1</th>\n",
       "      <td>project</td>\n",
       "      <td>2338</td>\n",
       "    </tr>\n",
       "  </tbody>\n",
       "</table>\n",
       "</div>"
      ],
      "text/plain": [
       "      type  count\n",
       "0   course  35715\n",
       "1  project   2338"
      ]
     },
     "execution_count": 22,
     "metadata": {},
     "output_type": "execute_result"
    }
   ],
   "source": [
    "# Data processing to generate plots\n",
    "count_type = df_mooc['type'].value_counts()\n",
    "count_type = pd.DataFrame(count_type).reset_index()\n",
    "count_type"
   ]
  },
  {
   "cell_type": "code",
   "execution_count": 42,
   "metadata": {},
   "outputs": [
    {
     "data": {
      "image/png": "[encoded data removed]",
      "text/plain": [
       "<Figure size 1500x1500 with 4 Axes>"
      ]
     },
     "metadata": {},
     "output_type": "display_data"
    }
   ],
   "source": [
    "# Define global variables\n",
    "mpl.rcParams['axes.prop_cycle'] = mpl.cycler(color=plt.cm.Pastel1.colors)\n",
    "FS = 12\n",
    "\n",
    "fig, ax = plt.subplots(nrows=2, ncols=2)\n",
    "fig.set_figheight(15)\n",
    "fig.set_figwidth(15)\n",
    "\n",
    "# 1. Countplot of type column\n",
    "bars = ax[0, 0].barh(count_type['type'], count_type['count'])\n",
    "for bar in bars:\n",
    "  width = bar.get_width()\n",
    "  y = bar.get_y() + bar.get_height() / 2\n",
    "  ax[0, 0].annotate(f'{width}', xy=(width, y), xytext=(3, 0), textcoords='offset points', va='center', fontsize=FS)\n",
    "ax[0, 0].set_title(\"Count of course types\", fontsize=FS+3)\n",
    "ax[0, 0].set_ylabel(\"Course Type\", fontsize=FS)\n",
    "ax[0, 0].set_xlabel(\"Count\", fontsize=FS)\n",
    "\n",
    "fig.tight_layout()"
   ]
  },
  {
   "cell_type": "code",
   "execution_count": null,
   "metadata": {},
   "outputs": [],
   "source": []
  },
  {
   "cell_type": "code",
   "execution_count": null,
   "metadata": {},
   "outputs": [],
   "source": []
  },
  {
   "cell_type": "code",
   "execution_count": null,
   "metadata": {},
   "outputs": [],
   "source": []
  },
  {
   "cell_type": "code",
   "execution_count": null,
   "metadata": {},
   "outputs": [],
   "source": []
  },
  {
   "cell_type": "code",
   "execution_count": null,
   "metadata": {},
   "outputs": [],
   "source": []
  },
  {
   "cell_type": "code",
   "execution_count": null,
   "metadata": {},
   "outputs": [],
   "source": []
  },
  {
   "cell_type": "code",
   "execution_count": null,
   "metadata": {},
   "outputs": [],
   "source": []
  },
  {
   "cell_type": "code",
   "execution_count": null,
   "metadata": {},
   "outputs": [],
   "source": []
  },
  {
   "cell_type": "code",
   "execution_count": null,
   "metadata": {},
   "outputs": [],
   "source": []
  },
  {
   "cell_type": "code",
   "execution_count": null,
   "metadata": {},
   "outputs": [],
   "source": []
  },
  {
   "cell_type": "code",
   "execution_count": null,
   "metadata": {},
   "outputs": [],
   "source": []
  },
  {
   "cell_type": "code",
   "execution_count": null,
   "metadata": {},
   "outputs": [],
   "source": []
  },
  {
   "cell_type": "code",
   "execution_count": null,
   "metadata": {},
   "outputs": [],
   "source": []
  },
  {
   "cell_type": "code",
   "execution_count": null,
   "metadata": {},
   "outputs": [],
   "source": []
  },
  {
   "cell_type": "code",
   "execution_count": null,
   "metadata": {},
   "outputs": [],
   "source": []
  },
  {
   "cell_type": "code",
   "execution_count": null,
   "metadata": {},
   "outputs": [],
   "source": []
  },
  {
   "cell_type": "code",
   "execution_count": null,
   "metadata": {},
   "outputs": [],
   "source": []
  },
  {
   "cell_type": "code",
   "execution_count": null,
   "metadata": {},
   "outputs": [],
   "source": []
  },
  {
   "cell_type": "code",
   "execution_count": null,
   "metadata": {},
   "outputs": [],
   "source": []
  },
  {
   "cell_type": "code",
   "execution_count": null,
   "metadata": {},
   "outputs": [],
   "source": []
  },
  {
   "cell_type": "code",
   "execution_count": null,
   "metadata": {},
   "outputs": [],
   "source": []
  }
 ],
 "metadata": {
  "kernelspec": {
   "display_name": "py311_env",
   "language": "python",
   "name": "python3"
  },
  "language_info": {
   "codemirror_mode": {
    "name": "ipython",
    "version": 3
   },
   "file_extension": ".py",
   "mimetype": "text/x-python",
   "name": "python",
   "nbconvert_exporter": "python",
   "pygments_lexer": "ipython3",
   "version": "3.11.9"
  }
 },
 "nbformat": 4,
 "nbformat_minor": 2
}
