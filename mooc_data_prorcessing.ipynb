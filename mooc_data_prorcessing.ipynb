{
 "cells": [
  {
   "cell_type": "markdown",
   "metadata": {},
   "source": [
    "# MOOC Data Processing"
   ]
  },
  {
   "cell_type": "markdown",
   "metadata": {},
   "source": [
    "| Date | User | Change Type | Remarks |  \n",
    "| ---- | ---- | ----------- | ------- |\n",
    "| 05/19/2025   | Martin | Create  | Notebook created for MOOC data processing. Loaded in data | \n",
    "| 05/22/2025   | Martin | Update  | Started processing EdX, Coursera, Udemy dataset | "
   ]
  },
  {
   "cell_type": "markdown",
   "metadata": {
    "vscode": {
     "languageId": "plaintext"
    }
   },
   "source": [
    "# Content\n",
    "\n",
    "* [Load Data](#load-data)\n",
    "* [Preprocessing Dataset 1](#preprocessing-dataset-1)"
   ]
  },
  {
   "cell_type": "markdown",
   "metadata": {},
   "source": [
    "# Load Data"
   ]
  },
  {
   "cell_type": "markdown",
   "metadata": {},
   "source": [
    "Loading various selected datasets from our collection of MOOC datasets. Here we outline the preprocessing steps applied to each dataset such that they can be combined to one large dataset.\n",
    "\n",
    "1. __EdX, Coursera, and Udemy Course Data__ - Serves as the base dataset that all other datasets will combine to. Select relevant columns\n",
    "2. __Dataset of 15,00 Courses__ - Datasets are separated into individual sheets that each have their own preprocessing steps which is explained in detail below"
   ]
  },
  {
   "cell_type": "code",
   "execution_count": 93,
   "metadata": {},
   "outputs": [],
   "source": [
    "import pandas as pd\n",
    "import numpy as np\n",
    "\n",
    "from langdetect import detect"
   ]
  },
  {
   "cell_type": "code",
   "execution_count": 204,
   "metadata": {},
   "outputs": [],
   "source": [
    "# Dataset 1 - Edx, Coursera, Udemy\n",
    "df1 = pd.read_json(\"data/mooc/EdX, Coursera, and Udemy Course Data/combined_dataset.json\")"
   ]
  },
  {
   "cell_type": "markdown",
   "metadata": {},
   "source": [
    "# Preprocessing Dataset 1\n",
    "\n",
    "The following preprocessing steps were undertaken:\n",
    "\n",
    "1. Select relevant columns\n",
    "2. Select first organisation in list \n",
    "3. Set \"No rating\" to None\n",
    "4. Process description column\n",
    "5. Process reviews column"
   ]
  },
  {
   "cell_type": "markdown",
   "metadata": {},
   "source": [
    "__1. Select relevant columns__\n",
    "\n",
    "This dataset serves as the base for other datasets, so we select only columns that are relevant for our analysis"
   ]
  },
  {
   "cell_type": "code",
   "execution_count": 205,
   "metadata": {},
   "outputs": [],
   "source": [
    "# Preprocessing Dataset 1\n",
    "# 1. Select only the relevant columns\n",
    "df1_cols = [\n",
    "  'type',\n",
    "  'course_name',\n",
    "  'organization',\n",
    "  'instructor',\n",
    "  'rating',\n",
    "  'description',\n",
    "  'skills',\n",
    "  'level',\n",
    "  'Duration',\n",
    "  'reviews',\n",
    "  'enrollments',\n",
    "  'subject',\n",
    "  'provider'\n",
    "]\n",
    "df1 = df1[df1_cols]"
   ]
  },
  {
   "cell_type": "markdown",
   "metadata": {},
   "source": [
    "__2. Select first organisation in list__\n",
    "\n",
    "The `organization` column is a list of organisations that created the course. Only a small number of courses have multiple organisations that participated in curating the course (2.1%). Therefore, we assume that the first organisation in the list is the main provider and use that as the primary organisation"
   ]
  },
  {
   "cell_type": "code",
   "execution_count": 206,
   "metadata": {},
   "outputs": [],
   "source": [
    "# 2. Take only the first organization\n",
    "df1['organization'] = df1['organization'].str[0]"
   ]
  },
  {
   "cell_type": "markdown",
   "metadata": {},
   "source": [
    "__3. Set No rating to None__\n",
    "\n",
    "`rating` column contains both \"No rating\" and `NoneType`. Make it consistent as `NoneType`"
   ]
  },
  {
   "cell_type": "code",
   "execution_count": 207,
   "metadata": {},
   "outputs": [],
   "source": [
    "# 3. Change \"No rating\" to None\n",
    "df1.loc[df1['rating'] == 'No rating', 'rating'] = None"
   ]
  },
  {
   "cell_type": "markdown",
   "metadata": {},
   "source": [
    "__4. Process description column__\n",
    "\n",
    "First we remove the leading \"Description: \" and trailing newlines on some columns. Then apply language detection to see if the course was conducted in english. We use the description language here to determine this because it seems like a reasonable proxy."
   ]
  },
  {
   "cell_type": "code",
   "execution_count": 208,
   "metadata": {},
   "outputs": [],
   "source": [
    "# Remove Description: and \\n\n",
    "df1['description'] = df1['description'].str.removeprefix('Description: ').str.rstrip('\\n')\n",
    "\n",
    "# Create an is_english column that indicates if course is conducted in english\n",
    "# (1 = english, 0 = not english)\n",
    "df1['is_english'] = df1['description'].apply(lambda x: 1 if detect(x) == 'en' else 0)"
   ]
  },
  {
   "cell_type": "markdown",
   "metadata": {},
   "source": [
    "__5. Process reviews column__\n",
    "\n",
    "We replace empty lists with `np.nan`. Then split the populated reviews into the 2 separate columns, `reviews_comments` and `reviews_stars` representing the comments and stars portion of each review. \n",
    "\n",
    "We also create 2 new columns that represent the mean star ratings and the number of reviews left on each course. This new count column replaces the original `nu_reviews` column which was suppose to represent the same metric, because it was inconsistent with the `reviews` column."
   ]
  },
  {
   "cell_type": "code",
   "execution_count": 209,
   "metadata": {},
   "outputs": [
    {
     "name": "stderr",
     "output_type": "stream",
     "text": [
      "C:\\Users\\User\\AppData\\Local\\Temp\\ipykernel_11124\\466081124.py:19: FutureWarning: Setting an item of incompatible dtype is deprecated and will raise an error in a future version of pandas. Value '[list(['wonderful']) list(['Very good way of teaching.', 'Good', 'Good'])\n",
      " list(['Estaría bien que se pudiera obtener certificación de la universidad', 'me parecio un excelente curso, pero sobre todas las cosas me dio una seguridad inmensa  la hora de desarrollarme en el area de emergencias que tan frecuente se hace esta tematica', 'Curso practico para conocer sobre la patología del ICTUS y el método RACE para la evaluación y conocer si estamos ante una posible lesion de vasos cerebrales afectados', 'Excelente curso, es dinámico, fácilmente entendible y aún más con los casos clínicos mostrados, me voy con una idea bastante buena de que es y como evaluar un ictus agudo sobretodo en emergencias', 'Excelente aproximación al ACV de manera prehospitalaria, la escala RACE una excelente herramienta y el curso es muy práctico. Recomendado para el área de la salud!', 'Un curso bastante completo sobre las enfermedades cerebrovasculares. Completamente recomendado para quienes quieren saber más sobre el tema.', 'Es muy bueno el contenido y la organización de este curso, totalmente recomendable para quien pueda hacerlo', 'Curso muy bien organizado, que aporta los conocimientos necesarios para actuar en codigo Ictus', 'Felicitaciones muy buen curso gracias', 'EXCELENTE FELICITACIONES  GRACIAS', 'excelente curso muy didáctico', 'Un curso fantástico', 'EXCELENTE CURSO', 'Muy excelente', 'Muy interesante, aunque en Navarra no se utilizan los mismos recursos, es interesante', 'Genial, duración perfecta, información interesante y concisa. En las quizz se pregunta lo que se aprende en el temario y ayuda a reforzar conceptos. Me parece un curso muy bien hecho para reforzar los conceptos claves del ictus y actuar de manera adecuada en caso de que se presente un caso.', 'realmente me encuento satisfecho porque es una oportunidad mas para aprender sobre emergencias detallada por la medicina..cada docente de la salud en este curso se a explicado detalladamente que es lo mas lindo ...aprender en casa es posible si uno pone de parte', 'MUY BUEN ABORDAJE TANTO TEORICO COMO PRACTICO RESPECTO A ESTA PATOLOGIA . PERMITE AFIANZAR  Y ACTUALIZARSE EN EL MANEJO DEL ICTUS AGUDO, PARA HACER UN DIAGNOSTICO Y MANEJO OPORTUNO MINIMIZANDO DE ESTA MANERA LAS SECUELAS AL PACIENTE.   GRACIAS', 'me pareció obtener un conocimiento nuevo y a tener y observar nuevas técnicas de valoración para la atención a pacientes pre hospitalarios y la importancia e identificación  de cada ictus hemorragico como isquémico', 'Un curso muy bien estructurado, y fácil de seguir. Lleno de información útil y fácil de aplicar, los videos de aplicación son una herramienta invaluable al momento de  trasladar la información a la práctica.', 'Excelente, un curso dinámico, con adecuados ejercicios que te ayudaran a mejorar tus capacidades para detectar pacientes con ictus y por consiguiente su arribo a un hospital correcto.', 'Un curso bastante practico y con  información precisa para conocer la atención prehospitalaria en pacientes con ictus, saber reconocerlo y actuar de forma temprana.', 'Es un excelente curso lleno de muchos aprendizaje, para mi fue una experiencia muy bonita que  en algún momento de mi carrera profesional, lo pondré en practica.', 'Información útil para todo profesional que se desempeña en el área prehospitalaria y hospitalaria para la agilización de la detección y tratamiento del ictus.', 'Excelente, a todos los que se encuentran en el área de la medicina inclusive civiles, este curso es excelente. Muy bueno, me encanto!!!!! Aprovechenlo.'])\n",
      " ... nan nan nan]' has dtype incompatible with float64, please explicitly cast to a compatible dtype first.\n",
      "  df1.loc[~df1['reviews'].isna(), ['reviews_comment', 'reviews_stars']] = expanded.reset_index(drop=True)\n",
      "C:\\Users\\User\\AppData\\Local\\Temp\\ipykernel_11124\\466081124.py:19: FutureWarning: Setting an item of incompatible dtype is deprecated and will raise an error in a future version of pandas. Value '[list([5]) list([5, 5, 5])\n",
      " list([3, 5, 5, 5, 5, 5, 5, 5, 5, 5, 5, 5, 5, 5, 4, 5, 5, 5, 5, 5, 5, 5, 5, 5, 5])\n",
      " ... nan nan nan]' has dtype incompatible with float64, please explicitly cast to a compatible dtype first.\n",
      "  df1.loc[~df1['reviews'].isna(), ['reviews_comment', 'reviews_stars']] = expanded.reset_index(drop=True)\n"
     ]
    }
   ],
   "source": [
    "def process_reviews(val: list) -> (list, float):\n",
    "  reviews = []\n",
    "  stars = []\n",
    "  for rev in val:\n",
    "    reviews.append(rev['comment'])\n",
    "    stars.append(rev['stars'])\n",
    "  return reviews, stars\n",
    "\n",
    "# Replace empty lists with nan\n",
    "df1.loc[df1['reviews'].str.len() == 0, 'reviews'] = np.nan\n",
    "\n",
    "# Create 2 empty columns to separate reviews and the average star rating\n",
    "df1[['reviews_comment', 'reviews_stars']] = np.nan, np.nan\n",
    "\n",
    "# Fill values if they contain comments\n",
    "expanded = df1.loc[~df1['reviews'].isna(), 'reviews'].apply(lambda x: pd.Series(process_reviews(x)))\n",
    "expanded.columns = ['reviews_comment', 'reviews_stars']\n",
    "# reset the index for proper assignment by position\n",
    "df1.loc[~df1['reviews'].isna(), ['reviews_comment', 'reviews_stars']] = expanded.reset_index(drop=True)\n",
    "\n",
    "# Create column for average review score\n",
    "df1['reviews_avg_stars'] = df1['reviews_stars'].apply(np.mean)\n",
    "\n",
    "# Create column for number of reviews\n",
    "df1['num_reviews'] = df1['reviews_stars'].str.len()"
   ]
  },
  {
   "cell_type": "markdown",
   "metadata": {},
   "source": [
    "Remove skills that have nan lists"
   ]
  },
  {
   "cell_type": "code",
   "execution_count": 210,
   "metadata": {},
   "outputs": [],
   "source": [
    "temp = df1.copy()"
   ]
  },
  {
   "cell_type": "code",
   "execution_count": 211,
   "metadata": {},
   "outputs": [
    {
     "data": {
      "text/html": [
       "<div>\n",
       "<style scoped>\n",
       "    .dataframe tbody tr th:only-of-type {\n",
       "        vertical-align: middle;\n",
       "    }\n",
       "\n",
       "    .dataframe tbody tr th {\n",
       "        vertical-align: top;\n",
       "    }\n",
       "\n",
       "    .dataframe thead th {\n",
       "        text-align: right;\n",
       "    }\n",
       "</style>\n",
       "<table border=\"1\" class=\"dataframe\">\n",
       "  <thead>\n",
       "    <tr style=\"text-align: right;\">\n",
       "      <th></th>\n",
       "      <th>type</th>\n",
       "      <th>course_name</th>\n",
       "      <th>organization</th>\n",
       "      <th>instructor</th>\n",
       "      <th>rating</th>\n",
       "      <th>description</th>\n",
       "      <th>skills</th>\n",
       "      <th>level</th>\n",
       "      <th>Duration</th>\n",
       "      <th>reviews</th>\n",
       "      <th>enrollments</th>\n",
       "      <th>subject</th>\n",
       "      <th>provider</th>\n",
       "      <th>is_english</th>\n",
       "      <th>reviews_comment</th>\n",
       "      <th>reviews_stars</th>\n",
       "      <th>reviews_avg_stars</th>\n",
       "      <th>num_reviews</th>\n",
       "    </tr>\n",
       "  </thead>\n",
       "  <tbody>\n",
       "    <tr>\n",
       "      <th>0</th>\n",
       "      <td>course</td>\n",
       "      <td>AWS Lambda إنشاء صورة مصغرة بإستخدام السيرفرل...</td>\n",
       "      <td>Coursera Project Network</td>\n",
       "      <td>Omar Fathy</td>\n",
       "      <td>None</td>\n",
       "      <td>هذا المشروع التفاعلي -إنشاء صورة مصغرة بإستخدا...</td>\n",
       "      <td>[AWS Identity And Access Management (IAM), Clo...</td>\n",
       "      <td>Intermediate</td>\n",
       "      <td>2.0</td>\n",
       "      <td>NaN</td>\n",
       "      <td>NaN</td>\n",
       "      <td>None</td>\n",
       "      <td>coursera</td>\n",
       "      <td>0</td>\n",
       "      <td>NaN</td>\n",
       "      <td>NaN</td>\n",
       "      <td>NaN</td>\n",
       "      <td>NaN</td>\n",
       "    </tr>\n",
       "    <tr>\n",
       "      <th>1</th>\n",
       "      <td>course</td>\n",
       "      <td>Assisting Public Sector Decision Makers With ...</td>\n",
       "      <td>University of Michigan</td>\n",
       "      <td>Christopher Brooks</td>\n",
       "      <td>4.8</td>\n",
       "      <td>Develop data analysis skills that support publ...</td>\n",
       "      <td>[Simulations, Statistical Analysis, Predictive...</td>\n",
       "      <td>Intermediate</td>\n",
       "      <td>16.0</td>\n",
       "      <td>[{'comment': 'This course was very good at get...</td>\n",
       "      <td>NaN</td>\n",
       "      <td>None</td>\n",
       "      <td>coursera</td>\n",
       "      <td>1</td>\n",
       "      <td>[wonderful]</td>\n",
       "      <td>[5]</td>\n",
       "      <td>5.0</td>\n",
       "      <td>1.0</td>\n",
       "    </tr>\n",
       "    <tr>\n",
       "      <th>2</th>\n",
       "      <td>course</td>\n",
       "      <td>Advanced Strategies for Sustainable Business</td>\n",
       "      <td>University of Colorado Boulder</td>\n",
       "      <td>Joel Hartter</td>\n",
       "      <td>None</td>\n",
       "      <td>This course focuses on integrating sustainabil...</td>\n",
       "      <td>[Circular Economy, Sustainable Business, Stake...</td>\n",
       "      <td>Beginner</td>\n",
       "      <td>6.0</td>\n",
       "      <td>NaN</td>\n",
       "      <td>NaN</td>\n",
       "      <td>None</td>\n",
       "      <td>coursera</td>\n",
       "      <td>1</td>\n",
       "      <td>NaN</td>\n",
       "      <td>NaN</td>\n",
       "      <td>NaN</td>\n",
       "      <td>NaN</td>\n",
       "    </tr>\n",
       "    <tr>\n",
       "      <th>3</th>\n",
       "      <td>course</td>\n",
       "      <td>Applying Machine Learning to Your Data with G...</td>\n",
       "      <td>Google Cloud</td>\n",
       "      <td>Google Cloud Training</td>\n",
       "      <td>None</td>\n",
       "      <td>Dans ce cours, nous définirons ce qu'est le ma...</td>\n",
       "      <td>[NaN]</td>\n",
       "      <td>Beginner</td>\n",
       "      <td>10.0</td>\n",
       "      <td>NaN</td>\n",
       "      <td>NaN</td>\n",
       "      <td>None</td>\n",
       "      <td>coursera</td>\n",
       "      <td>0</td>\n",
       "      <td>NaN</td>\n",
       "      <td>NaN</td>\n",
       "      <td>NaN</td>\n",
       "      <td>NaN</td>\n",
       "    </tr>\n",
       "    <tr>\n",
       "      <th>4</th>\n",
       "      <td>project</td>\n",
       "      <td>Automate Blog Advertisements with Zapier</td>\n",
       "      <td>Coursera Project Network</td>\n",
       "      <td>Carmen Rojas</td>\n",
       "      <td>None</td>\n",
       "      <td>Zapier is the industry leader in task automati...</td>\n",
       "      <td>[Advertising, Social Media, Blogging, Marketing]</td>\n",
       "      <td>Intermediate</td>\n",
       "      <td>2.0</td>\n",
       "      <td>[{'comment': 'wonderful', 'stars': 5}]</td>\n",
       "      <td>NaN</td>\n",
       "      <td>None</td>\n",
       "      <td>coursera</td>\n",
       "      <td>1</td>\n",
       "      <td>[Very good way of teaching., Good, Good]</td>\n",
       "      <td>[5, 5, 5]</td>\n",
       "      <td>5.0</td>\n",
       "      <td>3.0</td>\n",
       "    </tr>\n",
       "  </tbody>\n",
       "</table>\n",
       "</div>"
      ],
      "text/plain": [
       "      type                                        course_name  \\\n",
       "0   course   AWS Lambda إنشاء صورة مصغرة بإستخدام السيرفرل...   \n",
       "1   course   Assisting Public Sector Decision Makers With ...   \n",
       "2   course       Advanced Strategies for Sustainable Business   \n",
       "3   course   Applying Machine Learning to Your Data with G...   \n",
       "4  project          Automate Blog Advertisements with Zapier    \n",
       "\n",
       "                     organization             instructor rating  \\\n",
       "0        Coursera Project Network             Omar Fathy   None   \n",
       "1          University of Michigan     Christopher Brooks    4.8   \n",
       "2  University of Colorado Boulder           Joel Hartter   None   \n",
       "3                    Google Cloud  Google Cloud Training   None   \n",
       "4        Coursera Project Network           Carmen Rojas   None   \n",
       "\n",
       "                                         description  \\\n",
       "0  هذا المشروع التفاعلي -إنشاء صورة مصغرة بإستخدا...   \n",
       "1  Develop data analysis skills that support publ...   \n",
       "2  This course focuses on integrating sustainabil...   \n",
       "3  Dans ce cours, nous définirons ce qu'est le ma...   \n",
       "4  Zapier is the industry leader in task automati...   \n",
       "\n",
       "                                              skills         level  Duration  \\\n",
       "0  [AWS Identity And Access Management (IAM), Clo...  Intermediate       2.0   \n",
       "1  [Simulations, Statistical Analysis, Predictive...  Intermediate      16.0   \n",
       "2  [Circular Economy, Sustainable Business, Stake...      Beginner       6.0   \n",
       "3                                              [NaN]      Beginner      10.0   \n",
       "4   [Advertising, Social Media, Blogging, Marketing]  Intermediate       2.0   \n",
       "\n",
       "                                             reviews  enrollments subject  \\\n",
       "0                                                NaN          NaN    None   \n",
       "1  [{'comment': 'This course was very good at get...          NaN    None   \n",
       "2                                                NaN          NaN    None   \n",
       "3                                                NaN          NaN    None   \n",
       "4             [{'comment': 'wonderful', 'stars': 5}]          NaN    None   \n",
       "\n",
       "   provider  is_english                           reviews_comment  \\\n",
       "0  coursera           0                                       NaN   \n",
       "1  coursera           1                               [wonderful]   \n",
       "2  coursera           1                                       NaN   \n",
       "3  coursera           0                                       NaN   \n",
       "4  coursera           1  [Very good way of teaching., Good, Good]   \n",
       "\n",
       "  reviews_stars  reviews_avg_stars  num_reviews  \n",
       "0           NaN                NaN          NaN  \n",
       "1           [5]                5.0          1.0  \n",
       "2           NaN                NaN          NaN  \n",
       "3           NaN                NaN          NaN  \n",
       "4     [5, 5, 5]                5.0          3.0  "
      ]
     },
     "execution_count": 211,
     "metadata": {},
     "output_type": "execute_result"
    }
   ],
   "source": [
    "temp.head()"
   ]
  },
  {
   "cell_type": "code",
   "execution_count": null,
   "metadata": {},
   "outputs": [],
   "source": []
  },
  {
   "cell_type": "code",
   "execution_count": null,
   "metadata": {},
   "outputs": [],
   "source": []
  },
  {
   "cell_type": "code",
   "execution_count": null,
   "metadata": {},
   "outputs": [],
   "source": []
  },
  {
   "cell_type": "code",
   "execution_count": null,
   "metadata": {},
   "outputs": [],
   "source": []
  },
  {
   "cell_type": "code",
   "execution_count": null,
   "metadata": {},
   "outputs": [],
   "source": []
  },
  {
   "cell_type": "code",
   "execution_count": null,
   "metadata": {},
   "outputs": [],
   "source": []
  },
  {
   "cell_type": "code",
   "execution_count": null,
   "metadata": {},
   "outputs": [],
   "source": []
  },
  {
   "cell_type": "code",
   "execution_count": null,
   "metadata": {},
   "outputs": [],
   "source": []
  },
  {
   "cell_type": "code",
   "execution_count": null,
   "metadata": {},
   "outputs": [],
   "source": []
  },
  {
   "cell_type": "code",
   "execution_count": null,
   "metadata": {},
   "outputs": [],
   "source": []
  },
  {
   "cell_type": "code",
   "execution_count": null,
   "metadata": {},
   "outputs": [],
   "source": []
  },
  {
   "cell_type": "code",
   "execution_count": null,
   "metadata": {},
   "outputs": [],
   "source": []
  },
  {
   "cell_type": "code",
   "execution_count": null,
   "metadata": {},
   "outputs": [],
   "source": []
  }
 ],
 "metadata": {
  "kernelspec": {
   "display_name": "py311_env",
   "language": "python",
   "name": "python3"
  },
  "language_info": {
   "codemirror_mode": {
    "name": "ipython",
    "version": 3
   },
   "file_extension": ".py",
   "mimetype": "text/x-python",
   "name": "python",
   "nbconvert_exporter": "python",
   "pygments_lexer": "ipython3",
   "version": "3.11.9"
  }
 },
 "nbformat": 4,
 "nbformat_minor": 2
}
